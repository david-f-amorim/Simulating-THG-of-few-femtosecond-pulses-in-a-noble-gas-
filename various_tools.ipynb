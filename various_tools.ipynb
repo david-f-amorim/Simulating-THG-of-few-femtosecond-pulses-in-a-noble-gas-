{
 "cells": [
  {
   "cell_type": "code",
   "execution_count": 1,
   "metadata": {},
   "outputs": [],
   "source": [
    "using  Luna\n",
    "import Luna: Maths, PhysData\n",
    "using  DelimitedFiles \n",
    "import PyPlot: pygui, plt, PyDict, matplotlib\n",
    "close(\"all\")\n",
    "pygui(true)\n",
    "\n",
    "pres= 2.0\n",
    "gas = :Ar\n",
    "\n",
    "in_dir=\"input\"\n",
    "L = 3e-3\n",
    "L_eff = 10e-3\n",
    "p_ed = 1e-3\n",
    "\n",
    "# --- read in DPC gas density profile (1) ---\n",
    "file_ρ    = \"dens_$(pres)bar.dat\"      # name of density profile data file \n",
    "path_ρ    = joinpath(in_dir, file_ρ)   # sys. path to density profile data file \n",
    "\n",
    "z_in = readdlm(path_ρ,' ', Float64, '\\n')[:,1]        # read in spatial points \n",
    "ρ_in = readdlm(path_ρ,' ', Float64, '\\n')[:,2]        # read in density data \n",
    "\n",
    "# --- read in old cell density profile (2) ---\n",
    "file_ρ_OLD    = \"dens_$(pres)bar_OLD_CELL.dat\"      # name of density profile data file \n",
    "path_ρ_OLD    = joinpath(in_dir, file_ρ_OLD)   # sys. path to density profile data file \n",
    "\n",
    "z_in_OLD = readdlm(path_ρ_OLD,' ', Float64, '\\n')[:,1]        # read in spatial points \n",
    "ρ_in_OLD = readdlm(path_ρ_OLD,' ', Float64, '\\n')[:,2]        # read in density data \n",
    "\n",
    "# --- read in old cell density profile (11) ---\n",
    "file_ρ_FLUO    = \"density_distribution_fluoresence_reverse.txt\"      # name of density profile data file \n",
    "dir_FLUO       = \"H:\\\\My Documents\\\\PhD Documents\\\\02 Projects\\\\2022-07 Gas density measurement\\\\03 Analysis\"\n",
    "path_ρ_FLUO    = joinpath(dir_FLUO, file_ρ_FLUO)   # sys. path to density profile data file \n",
    "\n",
    "max_ρ  = PhysData.density(gas, pres)\n",
    "\n",
    "z_in_FLUO = readdlm(path_ρ_FLUO,',', Float64, '\\n')[:,1]        # read in spatial points \n",
    "ρ_in_FLUO = readdlm(path_ρ_FLUO,',', Float64, '\\n')[:,2]        # read in density data \n",
    "ρ_in_FLUO = ρ_in_FLUO/maximum(ρ_in_FLUO)*max_ρ\n",
    "\n",
    "# --- temporarily centre on zero ---\n",
    "z_in = z_in .- maximum(z_in)/2\n",
    "z_in_OLD = z_in_OLD .- maximum(z_in_OLD)/2\n",
    "\n",
    "# --- create gradient density profile (3) ---\n",
    "dens_coms = Maths.CSpline(z_in, ρ_in)                      # interpolate density function \n",
    "dens_coms_OLD = Maths.CSpline(z_in_OLD, ρ_in_OLD)                      # interpolate density function \n",
    "    \n",
    "Z= (-L/2, 0, L/2)                                        # define points for pressure gradient\n",
    "P= (p_ed, pres, p_ed)                                    # define values for pressure gradient (see \"p_const\" above)\n",
    "(coren,dens_grad)=Capillary.gradient(gas,Z,P)              # gives n(ω; z) and ρ(z) from pressure profile          \n",
    "\n",
    "# --- set up  z- and ρ-arrays for plot ---\n",
    "zarr = range(-L_eff, L_eff, 500)\n",
    "zarr_OLD = zarr\n",
    "zarr_grad = range(-L/2, L/2, 500)\n",
    "\n",
    "ρ_grad =   [dens_grad(z) for z in zarr_grad] ./ PhysData.N_A\n",
    "ρ_coms=    [dens_coms(z) for z in zarr]  ./ PhysData.N_A\n",
    "ρ_coms_OLD= [dens_coms_OLD(z) for z in zarr_OLD]  ./ PhysData.N_A\n",
    "ρ_FLUO= ρ_in_FLUO  ./ PhysData.N_A\n",
    "\n",
    "# --- plot ---\n",
    "rcParams = PyDict(matplotlib.\"rcParams\") # get rcParams \n",
    "rcParams[\"text.usetex\"] = true # enable LaTeX renadering\n",
    "rcParams[\"mathtext.fontset\"] = \"cm\" # use LateX font for maths\n",
    "rcParams[\"font.family\"] = \"STIXGeneral\" # use LateX font for text\n",
    "rcParams[\"font.size\"] = 16 # set standard font size \n",
    "fig_dim = 2* [3.14961, 2.3622075] # for 8cm width ; double for 16cm width\n",
    "\n",
    "plt.figure(figsize=fig_dim)\n",
    "plt.subplots_adjust(bottom=0.12)\n",
    "# plt.plot(zarr*1e3,  ρ_coms_OLD, label=\"old cell\", color=\"blue\")\n",
    "# plt.plot(zarr_OLD*1e3 , ρ_coms, label=\"new chip\", color=\"red\")\n",
    "plt.plot(zarr_grad*1e3 , ρ_grad, label=\"gradient\", color=\"purple\")\n",
    "plt.plot(z_in_FLUO .- z_in_FLUO[Int(round(length(z_in_FLUO)/2))], ρ_FLUO, label=\"fluorescence based\", color=\"blue\")\n",
    "plt.xlabel(\"Cell position (mm)\")\n",
    "plt.ylabel(\"Number density (mol/m³)\")\n",
    "plt.legend(loc=\"upper right\", fontsize=13)\n",
    "# plt.savefig(joinpath(\"manuscript_spectra\", \"old_new_comp.png\"), dpi=1000)\n",
    "# plt.savefig(joinpath(\"manuscript_spectra\", \"old_new_comp.pdf\"))\n",
    "plt.show()\n"
   ]
  },
  {
   "cell_type": "code",
   "execution_count": 24,
   "metadata": {},
   "outputs": [
    {
     "data": {
      "text/plain": [
       "0.63834"
      ]
     },
     "metadata": {},
     "output_type": "display_data"
    }
   ],
   "source": [
    "z_in_FLUO.-2\n",
    "length(z_in_FLUO)\n",
    "z_in_FLUO[Int(round(length(z_in_FLUO)/2))]\n"
   ]
  },
  {
   "cell_type": "code",
   "execution_count": 7,
   "metadata": {},
   "outputs": [
    {
     "data": {
      "text/plain": [
       "(-0.0015, 0, 0.0015)"
      ]
     },
     "metadata": {},
     "output_type": "display_data"
    }
   ],
   "source": [
    "Z"
   ]
  },
  {
   "cell_type": "code",
   "execution_count": 2,
   "metadata": {},
   "outputs": [
    {
     "ename": "SyntaxError",
     "evalue": "invalid syntax (<ipython-input-2-61585d20c5d7>, line 1)",
     "output_type": "error",
     "traceback": [
      "\u001b[1;36m  File \u001b[1;32m\"<ipython-input-2-61585d20c5d7>\"\u001b[1;36m, line \u001b[1;32m1\u001b[0m\n\u001b[1;33m    gas_arr = [:Ar, :Ne, :He, :Kr, :Xe, :N2, :N2O]\u001b[0m\n\u001b[1;37m               ^\u001b[0m\n\u001b[1;31mSyntaxError\u001b[0m\u001b[1;31m:\u001b[0m invalid syntax\n"
     ]
    }
   ],
   "source": [
    "gas_arr = [:Ar, :Ne, :He, :Kr, :Xe, :N2, :N2O]\n",
    "dens_grad_arr = [Capillary.gradient(gas,Z,P)[2] for gas in gas_arr]\n",
    "c_arr = [\"black\", \"grey\", \"blue\", \"cyan\", \"orange\", \"green\", \"purple\"]\n",
    "\n",
    "plt.title(\"Comparison of different gas profiles at $(pres)bar\")\n",
    "plt.xlabel(\"Cell position (mm)\")\n",
    "plt.ylabel(\"Number density (1/m³)\")\n",
    "for i in 1:length(gas_arr)\n",
    "    ρ_grad = [dens_grad_arr[i](z) for z in zarr]\n",
    "    plt.plot(zarr*1e3, ρ_grad, label=\"$(gas_arr[i])\", color=c_arr[i])\n",
    "end   \n",
    "plt.plot(zarr*1e3, ρ_coms, label=\"COMSOL\", color=\"red\")\n",
    "plt.legend()\n",
    "plt.savefig(joinpath(\"output\", \"gas_dens_comp.png\"), dpi=1000)\n",
    "plt.show()\n"
   ]
  },
  {
   "cell_type": "code",
   "execution_count": 7,
   "metadata": {},
   "outputs": [
    {
     "data": {
      "text/plain": [
       "741.5133172034373"
      ]
     },
     "metadata": {},
     "output_type": "display_data"
    }
   ],
   "source": [
    "using Luna \n",
    "using  DelimitedFiles\n",
    "\n",
    "in_dir = \"input\"\n",
    "file_IR_spec = \"IRspec.dat\"                   # name of IR FROG input spectrum file \n",
    "path_IR_spec = joinpath(in_dir, file_IR_spec) # sys. path to IR FROG input spectrum file\n",
    " \n",
    "λ = readdlm(path_IR_spec,' ', Float64, '\\n')[:,1]             # read in IR input wavelength data [FROG]\n",
    "I = readdlm(path_IR_spec,' ', Float64, '\\n')[:,2]             # read in IR input spectral data [FROG]\n",
    "\n",
    "#λ0 = Maths.moment(I, λ, 1) / Maths.moment(I,λ,0)\n",
    "\n",
    "λ0 = sum(λ .* I) / sum(I) *1e9 \n"
   ]
  },
  {
   "cell_type": "code",
   "execution_count": 2,
   "metadata": {
    "collapsed": true
   },
   "outputs": [],
   "source": [
    "import Luna: Capillary, PhysData\n",
    "import PyPlot:pygui, plt, PyDict, matplotlib\n",
    "close(\"all\")\n",
    "pygui(true)\n",
    "\n",
    "gas = :Ar\n",
    "\n",
    "dir=\"manuscript_spectra\"\n",
    "L = 3e-3\n",
    "p_ed = 1e-3\n",
    "\n",
    "rcParams = PyDict(matplotlib.\"rcParams\") # get rcParams \n",
    "rcParams[\"text.usetex\"] = true # enable LaTeX renadering\n",
    "rcParams[\"mathtext.fontset\"] = \"cm\" # use LateX font for maths\n",
    "rcParams[\"font.family\"] = \"STIXGeneral\" # use LateX font for text\n",
    "rcParams[\"font.size\"] = 16 # set standard font size \n",
    "fig_dim = 2* [3.14961, 2.3622075] # for 8cm width ; double for 16cm width\n",
    "\n",
    "pres= 0.4\n",
    "pres2 = 1.0\n",
    "pres3 = 1.5 \n",
    "pres4 = 2.0 \n",
    "\n",
    "Z= (0, L/2, L)                                        # define points for pressure gradient\n",
    "P= (p_ed, pres, p_ed) \n",
    "P2= (p_ed, pres2, p_ed)\n",
    "P3= (p_ed, pres3, p_ed)\n",
    "P4= (p_ed, pres4, p_ed)                                # define values for pressure gradient (see \"p_const\" above)\n",
    "(coren,dens_grad)=Capillary.gradient(gas,Z,P) \n",
    "(coren,dens_grad2)=Capillary.gradient(gas,Z,P2) \n",
    "(coren,dens_grad3)=Capillary.gradient(gas,Z,P3) \n",
    "(coren,dens_grad4)=Capillary.gradient(gas,Z,P4)              # gives n(ω; z) and ρ(z) from pressure profile   \n",
    "       \n",
    "zarr = range(0, L, 100)\n",
    "\n",
    "ρ_grad =   [dens_grad(z) for z in zarr] ./ PhysData.N_A\n",
    "ρ_grad2 =   [dens_grad2(z) for z in zarr] ./ PhysData.N_A\n",
    "ρ_grad3 =   [dens_grad3(z) for z in zarr] ./ PhysData.N_A\n",
    "ρ_grad4 =   [dens_grad4(z) for z in zarr] ./ PhysData.N_A\n",
    "\n",
    "plt.figure(figsize=fig_dim)\n",
    "plt.subplots_adjust(bottom=0.12)\n",
    "plt.plot(zarr*1e3, ρ_grad, label=\"$(pres)bar\", color=\"blue\")\n",
    "plt.plot(zarr*1e3, ρ_grad2, label=\"$(pres2)bar\", color=\"black\")\n",
    "plt.plot(zarr*1e3, ρ_grad3, label=\"$(pres3)bar\", color=\"red\")\n",
    "plt.plot(zarr*1e3, ρ_grad4, label=\"$(pres4)bar\", color=\"green\")\n",
    "\n",
    "plt.xlabel(\"Cell position (mm)\")\n",
    "plt.ylabel(\"Number density (mol/m³)\")\n",
    "plt.legend()\n",
    "# plt.savefig(joinpath(dir, \"grad_model.png\"), dpi=1000)\n",
    "# plt.savefig(joinpath(dir, \"grad_model.pdf\"))\n",
    "plt.show()\n"
   ]
  },
  {
   "cell_type": "code",
   "execution_count": 3,
   "metadata": {},
   "outputs": [
    {
     "ename": "FileNotFoundError",
     "evalue": "[Errno 2] No such file or directory: 'measured_p_scans\\\\Ar_150mW_0.1bar.txt'",
     "output_type": "error",
     "traceback": [
      "\u001b[1;31m---------------------------------------------------------------------------\u001b[0m",
      "\u001b[1;31mFileNotFoundError\u001b[0m                         Traceback (most recent call last)",
      "\u001b[1;32m<ipython-input-3-2541875b1327>\u001b[0m in \u001b[0;36m<module>\u001b[1;34m()\u001b[0m\n\u001b[0;32m     16\u001b[0m                 \u001b[0marr\u001b[0m\u001b[1;33m[\u001b[0m\u001b[0mi\u001b[0m\u001b[1;33m,\u001b[0m\u001b[1;36m1\u001b[0m\u001b[1;33m]\u001b[0m\u001b[1;33m=\u001b[0m\u001b[1;36m0\u001b[0m\u001b[1;33m\u001b[0m\u001b[0m\n\u001b[0;32m     17\u001b[0m \u001b[1;33m\u001b[0m\u001b[0m\n\u001b[1;32m---> 18\u001b[1;33m         \u001b[0mnp\u001b[0m\u001b[1;33m.\u001b[0m\u001b[0msavetxt\u001b[0m\u001b[1;33m(\u001b[0m\u001b[0mos\u001b[0m\u001b[1;33m.\u001b[0m\u001b[0mpath\u001b[0m\u001b[1;33m.\u001b[0m\u001b[0mjoin\u001b[0m\u001b[1;33m(\u001b[0m\u001b[0mout_dir\u001b[0m\u001b[1;33m,\u001b[0m \u001b[0mfile\u001b[0m\u001b[1;33m)\u001b[0m\u001b[1;33m,\u001b[0m\u001b[0marr\u001b[0m\u001b[1;33m)\u001b[0m\u001b[1;33m\u001b[0m\u001b[0m\n\u001b[0m\u001b[0;32m     19\u001b[0m     \u001b[1;32melif\u001b[0m \u001b[0mfile\u001b[0m\u001b[1;33m[\u001b[0m\u001b[1;33m:\u001b[0m\u001b[1;36m2\u001b[0m\u001b[1;33m]\u001b[0m\u001b[1;33m==\u001b[0m\u001b[1;34m\"Ne\"\u001b[0m\u001b[1;33m:\u001b[0m\u001b[1;33m\u001b[0m\u001b[0m\n\u001b[0;32m     20\u001b[0m \u001b[1;33m\u001b[0m\u001b[0m\n",
      "\u001b[1;32mC:\\Programfiles\\Anaconda3\\lib\\site-packages\\numpy\\lib\\npyio.py\u001b[0m in \u001b[0;36msavetxt\u001b[1;34m(fname, X, fmt, delimiter, newline, header, footer, comments)\u001b[0m\n\u001b[0;32m   1190\u001b[0m         \u001b[1;32melse\u001b[0m\u001b[1;33m:\u001b[0m\u001b[1;33m\u001b[0m\u001b[0m\n\u001b[0;32m   1191\u001b[0m             \u001b[1;32mif\u001b[0m \u001b[0msys\u001b[0m\u001b[1;33m.\u001b[0m\u001b[0mversion_info\u001b[0m\u001b[1;33m[\u001b[0m\u001b[1;36m0\u001b[0m\u001b[1;33m]\u001b[0m \u001b[1;33m>=\u001b[0m \u001b[1;36m3\u001b[0m\u001b[1;33m:\u001b[0m\u001b[1;33m\u001b[0m\u001b[0m\n\u001b[1;32m-> 1192\u001b[1;33m                 \u001b[0mfh\u001b[0m \u001b[1;33m=\u001b[0m \u001b[0mopen\u001b[0m\u001b[1;33m(\u001b[0m\u001b[0mfname\u001b[0m\u001b[1;33m,\u001b[0m \u001b[1;34m'wb'\u001b[0m\u001b[1;33m)\u001b[0m\u001b[1;33m\u001b[0m\u001b[0m\n\u001b[0m\u001b[0;32m   1193\u001b[0m             \u001b[1;32melse\u001b[0m\u001b[1;33m:\u001b[0m\u001b[1;33m\u001b[0m\u001b[0m\n\u001b[0;32m   1194\u001b[0m                 \u001b[0mfh\u001b[0m \u001b[1;33m=\u001b[0m \u001b[0mopen\u001b[0m\u001b[1;33m(\u001b[0m\u001b[0mfname\u001b[0m\u001b[1;33m,\u001b[0m \u001b[1;34m'w'\u001b[0m\u001b[1;33m)\u001b[0m\u001b[1;33m\u001b[0m\u001b[0m\n",
      "\u001b[1;31mFileNotFoundError\u001b[0m: [Errno 2] No such file or directory: 'measured_p_scans\\\\Ar_150mW_0.1bar.txt'"
     ]
    }
   ],
   "source": [
    "import numpy as np\n",
    "import os \n",
    "import pandas as pd \n",
    "\n",
    "in_dir  = \"raw_input\"    # name of input directory containing the raw data\n",
    "out_dir = \"measured_p_scans\"\n",
    "\n",
    "for file in os.listdir(in_dir):\n",
    "\n",
    "    # used for Argon as well as Ne: 2.0bar, 4.0bar, 4.5bar\n",
    "    if (file[:2]==\"Ne\" and (file[9:12]==\"2.0\" or file[9:12]==\"4.0\") ) or file[:2]==\"Ar\":\n",
    "        arr = np.loadtxt(os.path.join(in_dir, file), usecols=(0,1), skiprows=14)\n",
    "        arr[:,0] *= 1e-9\n",
    "        for i in np.arange(len(arr[:,1])):\n",
    "            if arr[i,1] < 0:\n",
    "                arr[i,1]=0\n",
    "\n",
    "        np.savetxt(os.path.join(out_dir, file),arr)\n",
    "    elif file[:2]==\"Ne\":\n",
    "\n",
    "        df = pd.read_table(os.path.join(in_dir, file), usecols=(0,1), skiprows=14,decimal=',')\n",
    "        arr = df.to_numpy(dtype=\"float\")\n",
    "\n",
    "        arr[:,0] *= 1e-9\n",
    "        for i in np.arange(len(arr[:,1])):\n",
    "            if arr[i,1] < 0:\n",
    "                arr[i,1]=0\n",
    "\n",
    "        np.savetxt(os.path.join(out_dir, file),arr)"
   ]
  },
  {
   "cell_type": "code",
   "execution_count": 2,
   "metadata": {},
   "outputs": [],
   "source": [
    "import numpy as np\n",
    "import os\n",
    "out_dir = \"experimental_data\\\\measured_p_scans\"\n",
    "\n",
    "N =8 #12  \n",
    "data = np.empty(shape=(N,3), dtype=\"object\")\n",
    "p_arr =[1.0, 1.5, 2.0, 2.5, 3.0, 3.5, 4.0, 4.5]#[0.1, 0.2, 0.3, 0.4, 0.5, 0.6, 0.7, 0.8, 0.9, 1.2, 1.4, 1.6] # #\n",
    "\n",
    "for i in np.arange(N):\n",
    "\n",
    "    tmp_arr = np.loadtxt(os.path.join(out_dir,\"Ne_400mW_\"+str(p_arr[i])+\"bar.txt\"))\n",
    "    lam = tmp_arr[:,0]\n",
    "    I = tmp_arr[:,1]\n",
    "\n",
    "    data[i,0] = p_arr[i] \n",
    "    data[i,1] = lam \n",
    "    data[i,2] = I "
   ]
  },
  {
   "cell_type": "code",
   "execution_count": null,
   "metadata": {},
   "outputs": [],
   "source": [
    "import matplotlib.pyplot as plt \n",
    "import numpy as np\n",
    "\n",
    "# plot settings \n",
    "show = True           # if True: open plots in matplotlib GUI; if False: don't show plots (directly write to file) \n",
    "save = False           # if True: saves plots \n",
    "show_title = False     # if False: no titles shown \n",
    "norm = True           # if True: norm spectra \n",
    "disable_latex = False # if True: disable LaTeX rendering \n",
    "use_pdf = True        # if True: save plots as pdf; else: use png\n",
    "\n",
    "# set plot formatting \n",
    "if disable_latex == False : plt.rcParams[\"text.usetex\"] = True   # enable LaTeX renadering\n",
    "plt.rcParams[\"mathtext.fontset\"] = \"cm\" # use LateX font for maths\n",
    "plt.rcParams[\"font.family\"] = \"STIXGeneral\" # use LateX font for text\n",
    "plt.rcParams[\"font.size\"] = 16 # set standard font size \n",
    "fig_dim = [2 * 3.14961,2* 2.3622075] # for 8cm width ; double for 16cm width\n",
    "\n",
    "plt.figure(figsize=fig_dim) \n",
    "if show_title: plt.title(\"??\")\n",
    "plt.subplots_adjust(top=0.9, bottom=0.14, left=0.16)\n",
    "plt.xlabel('$\\lambda$ (nm)')\n",
    "plt.ylabel(\"Central pressure (bar)\")\n",
    "\n",
    "I_2d= np.empty((len(data[0,1]), len(data[:,0])), dtype=\"float\")\n",
    "for i in np.arange(len(data[0,1])):      # lam\n",
    "    for j in np.arange(len(data[:,0])):  # pres \n",
    "        I_2d[i,j] = data[j, 2][i] \n",
    "\n",
    "X, Y = np.meshgrid(data[0,1].astype(\"float\")*1e9, data[:,0].astype(\"float\"))  \n",
    "I_2d = np.swapaxes(I_2d,0,1) \n",
    "\n",
    "if norm: \n",
    "    plt.contourf(X, Y, I_2d/np.max(I_2d), 5, vmin=0.1)\n",
    "else:\n",
    "    plt.pcolormesh(X, Y, I_2d)    \n",
    "\n",
    "plt.colorbar(label=\"I (arb. units)\" if norm==False else \"I (norm.)\")\n",
    "plt.xlim(159,360)\n",
    "plt.ylim(1.0,4.0) # for Ne\n",
    "\n",
    "if save: \n",
    "    if use_pdf:\n",
    "        plt.savefig(os.path.join(out_dir,\"2d_spectra_pres_Ne_400mW_meas.pdf\"))\n",
    "        plt.savefig(os.path.join(out_dir,\"2d_spectra_pres_Ne_400mW_meas.png\"),dpi=1000)\n",
    "    else:\n",
    "        plt.savefig(os.path.join(out_dir,\"2d_spectra_pres_Ne_400mW_meas.png\"),dpi=1000)    \n",
    "\n",
    "if show: plt.show()"
   ]
  },
  {
   "cell_type": "code",
   "execution_count": 11,
   "metadata": {},
   "outputs": [
    {
     "data": {
      "image/png": "[encoded data removed]",
      "text/plain": [
       "<Figure size 453.544x340.158 with 1 Axes>"
      ]
     },
     "metadata": {
      "needs_background": "light"
     },
     "output_type": "display_data"
    }
   ],
   "source": [
    "### temporal plots \n",
    "\n",
    "import matplotlib.pyplot as plt \n",
    "import numpy as np\n",
    "from scipy.optimize import curve_fit\n",
    "\n",
    "out_dir = \"manuscript_spectra\"\n",
    "in_dir = out_dir \n",
    "\n",
    "file = \"temporal_Ar.txt\"\n",
    "\n",
    "# set plot formatting \n",
    "plt.rcParams[\"text.usetex\"] = True   # enable LaTeX renadering\n",
    "plt.rcParams[\"mathtext.fontset\"] = \"cm\" # use LateX font for maths\n",
    "plt.rcParams[\"font.family\"] = \"STIXGeneral\" # use LateX font for text\n",
    "plt.rcParams[\"font.size\"] = 16 # set standard font size \n",
    "fig_dim = [2 * 3.14961,2* 2.3622075] # for 8cm width ; double for 16cm width\n",
    "\n",
    "# extract data \n",
    "arr = np.loadtxt(os.path.join(in_dir, file))\n",
    "t = arr[:,0] \n",
    "I = arr[:,1]\n",
    "\n",
    "# define Gaussian fit function \n",
    "def gauss(x, mu, sigma):\n",
    "    return np.exp(-(x-mu)**2/(2.*sigma**2))\n",
    "p0 = [-5*1e-15, 20*1e-15]\n",
    "\n",
    "# fit Gaussian \n",
    "coeff, _ = curve_fit(gauss, t, I,p0=p0)\n",
    "\n",
    "\n",
    "tau = coeff[1] * 2.355\n",
    "\n",
    "# set up figure\n",
    "plt.figure(figsize=fig_dim) \n",
    "plt.subplots_adjust(top=0.9, bottom=0.14, left=0.16)\n",
    "plt.xlabel('t (fs)')\n",
    "plt.ylabel(\"I (norm.)\")\n",
    "plt.plot(t*1e15, I, color=\"blue\", label=r'$\\tau$={0:.2f}fs'.format(np.abs(tau*1e15)))\n",
    "plt.plot(t*1e15, gauss(t, coeff[0],coeff[1]), color=\"grey\", ls=\"--\") \n",
    "plt.legend()\n",
    "plt.xlim(-10,10)\n",
    "\n",
    "plt.savefig(os.path.join(out_dir,\"temporal_Ar_ion.pdf\"))\n",
    "plt.savefig(os.path.join(out_dir,\"temporal_Ae_ion.png\"),dpi=1000)\n",
    "      \n",
    "plt.show()"
   ]
  },
  {
   "cell_type": "code",
   "execution_count": 12,
   "metadata": {},
   "outputs": [
    {
     "data": {
      "image/png": "[encoded data removed]",
      "text/plain": [
       "<Figure size 453.544x340.158 with 1 Axes>"
      ]
     },
     "metadata": {
      "needs_background": "light"
     },
     "output_type": "display_data"
    }
   ],
   "source": [
    "### temporal plots \n",
    "\n",
    "import matplotlib.pyplot as plt \n",
    "import numpy as np\n",
    "import os\n",
    "from scipy.optimize import curve_fit\n",
    "\n",
    "out_dir = \"manuscript_spectra\"\n",
    "in_dir = out_dir \n",
    "\n",
    "file = \"temporal_Ar_no_chirp.txt\"\n",
    "file_neg = \"temporal_Ar_neg_chirp.txt\"\n",
    "file_pos = \"temporal_Ar_pos_chirp.txt\"\n",
    "\n",
    "# set plot formatting \n",
    "plt.rcParams[\"text.usetex\"] = True   # enable LaTeX renadering\n",
    "plt.rcParams[\"mathtext.fontset\"] = \"cm\" # use LateX font for maths\n",
    "plt.rcParams[\"font.family\"] = \"STIXGeneral\" # use LateX font for text\n",
    "plt.rcParams[\"font.size\"] = 16 # set standard font size \n",
    "fig_dim = [2 * 3.14961,2* 2.3622075] # for 8cm width ; double for 16cm width\n",
    "\n",
    "# extract data \n",
    "arr = np.loadtxt(os.path.join(in_dir, file))\n",
    "arr_neg = np.loadtxt(os.path.join(in_dir, file_neg))\n",
    "arr_pos = np.loadtxt(os.path.join(in_dir, file_pos))\n",
    "t, t_neg, t_pos = arr[:,0], arr_neg[:,0] , arr_pos[:,0]  \n",
    "I, I_neg, I_pos = arr[:,1], arr_neg[:,1], arr_pos[:,1]\n",
    "\n",
    "# find normalisation factor\n",
    "max_val = max(np.max(I), np.max(I_neg), np.max(I_pos))\n",
    "norm = 1 / max_val\n",
    "\n",
    "# define Gaussian fit function \n",
    "def gauss(x, mu, sigma):\n",
    "    return np.exp(-(x-mu)**2/(2.*sigma**2))\n",
    "p0 = [-5*1e-15, 2*1e-15]\n",
    "\n",
    "# fit Gaussian \n",
    "coeff, _ = curve_fit(gauss, t, I / np.max(I),p0=p0)\n",
    "coeff_neg, _ = curve_fit(gauss, t_neg, I_neg / np.max(I_neg),p0=p0)\n",
    "coeff_pos, _ = curve_fit(gauss, t_pos, I_pos / np.max(I_pos),p0=p0)\n",
    "\n",
    "tau = coeff[1] * 2.355\n",
    "tau_neg = coeff_neg[1] * 2.355\n",
    "tau_pos = coeff_pos[1] * 2.355\n",
    "\n",
    "# set up figure\n",
    "plt.figure(figsize=fig_dim) \n",
    "plt.subplots_adjust(top=0.9, bottom=0.14, left=0.16)\n",
    "plt.xlabel('t (fs)')\n",
    "plt.ylabel(\"I (norm.)\")\n",
    "plt.plot(t*1e15, I *norm, color=\"black\", label=r\"0.0fs$^2$ ($\\tau$={0:.2f}fs)\".format(np.abs(tau*1e15)))\n",
    "plt.plot(t_neg*1e15, I_neg * norm, color=\"blue\", label=r\"$-$11.0fs$^2$ ($\\tau$={0:.2f}fs)\".format(np.abs(tau_neg*1e15)))\n",
    "plt.plot(t_pos*1e15, I_pos *norm, color=\"red\", label=r\"+11.0fs$^2$ ($\\tau $={0:.2f}fs)\".format(np.abs(tau_pos*1e15)))\n",
    "\n",
    "plt.legend()\n",
    "plt.xlim(-10,10)\n",
    "\n",
    "plt.savefig(os.path.join(out_dir,\"temporal_Ar_chirp.pdf\"))\n",
    "plt.savefig(os.path.join(out_dir,\"temporal_Ar_chirp.png\"),dpi=1000)\n",
    "      \n",
    "plt.show()"
   ]
  },
  {
   "cell_type": "code",
   "execution_count": 32,
   "metadata": {},
   "outputs": [
    {
     "data": {
      "image/png": "[encoded data removed]",
      "text/plain": [
       "<Figure size 453.544x340.158 with 1 Axes>"
      ]
     },
     "metadata": {},
     "output_type": "display_data"
    }
   ],
   "source": [
    "import numpy as np\n",
    "import matplotlib.pyplot as plt \n",
    "import os \n",
    "from matplotlib.ticker import FormatStrFormatter\n",
    "\n",
    "out_dir = \"manuscript\"\n",
    "Ar_file = \"raw_input\\\\energies_Ar_150mW_IR.txt\"\n",
    "Ne_file = \"raw_input\\\\energies_Ne_400mW_IR.txt\"\n",
    "\n",
    "# set plot formatting \n",
    "plt.rcParams[\"text.usetex\"] = True   # enable LaTeX renadering\n",
    "plt.rcParams[\"mathtext.fontset\"] = \"cm\" # use LateX font for maths\n",
    "plt.rcParams[\"font.family\"] = \"STIXGeneral\" # use LateX font for text\n",
    "plt.rcParams[\"font.size\"] = 16 # set standard font size \n",
    "fig_dim = [2 * 3.14961,2* 2.3622075] # for 8cm width ; double for 16cm width\n",
    "\n",
    "# get data\n",
    "measured_arr_Ar = np.loadtxt(Ar_file, skiprows=0, delimiter=\";\", dtype=\"float\")\n",
    "p_measured_Ar = measured_arr_Ar[:, 0]\n",
    "en_measured_Ar = np.mean(measured_arr_Ar[:,1:], axis=1)\n",
    "\n",
    "measured_arr_Ne = np.loadtxt(Ne_file, skiprows=0, delimiter=\";\", dtype=\"float\")\n",
    "p_measured_Ne = measured_arr_Ne[:, 0]\n",
    "en_measured_Ne = np.mean(measured_arr_Ne[:,1:], axis=1)\n",
    "\n",
    "plt.figure(figsize=fig_dim, facecolor=\"white\") \n",
    "plt.subplots_adjust(top=0.9, bottom=0.14)\n",
    "\n",
    "plt.ylabel(\"Energy (nJ)\")\n",
    "plt.xlabel(\"Central pressure (bar)\")\n",
    "\n",
    "\n",
    "plt.plot(p_measured_Ar, en_measured_Ar, color=\"red\", label=\"Ar\")\n",
    "plt.scatter(p_measured_Ar, en_measured_Ar, color=\"red\")\n",
    "plt.plot(p_measured_Ne, en_measured_Ne, color=\"blue\", label=\"Ne\")\n",
    "plt.scatter(p_measured_Ne, en_measured_Ne, color=\"blue\")\n",
    "\n",
    "ax = plt.gca()\n",
    "ax.set_yscale('log')\n",
    "ax.set_yticks([50,100,500])\n",
    "ax.yaxis.set_major_formatter(FormatStrFormatter(\"%.0f\"))\n",
    "\n",
    "plt.legend(loc=\"lower right\")\n",
    "\n",
    "\n",
    "plt.savefig(os.path.join(out_dir,\"p_scans_Ar_Ne_meas_log.pdf\"))\n",
    "plt.savefig(os.path.join(out_dir,\"p_scans_Ar_Ne_meas_log.png\"),dpi=1000) \n",
    "plt.show()  \n"
   ]
  },
  {
   "cell_type": "code",
   "execution_count": 29,
   "metadata": {},
   "outputs": [
    {
     "data": {
      "image/png": "[encoded data removed]",
      "text/plain": [
       "<Figure size 453.544x340.158 with 1 Axes>"
      ]
     },
     "metadata": {},
     "output_type": "display_data"
    }
   ],
   "source": [
    "import numpy as np\n",
    "import matplotlib.pyplot as plt \n",
    "import os \n",
    "from matplotlib.ticker import FormatStrFormatter\n",
    "\n",
    "out_dir = \"manuscript\"\n",
    "Ar_file = \"scans\\\\parameter_scans\\\\report_Ar_scan\\\\energy_efficiency_time_zpeak.txt\"\n",
    "Ne_file = \"scans\\\\parameter_scans\\\\report_Ne_scan\\\\energy_efficiency_time_zpeak.txt\"\n",
    "\n",
    "# set plot formatting \n",
    "plt.rcParams[\"text.usetex\"] = True   # enable LaTeX renadering\n",
    "plt.rcParams[\"mathtext.fontset\"] = \"cm\" # use LateX font for maths\n",
    "plt.rcParams[\"font.family\"] = \"STIXGeneral\" # use LateX font for text\n",
    "plt.rcParams[\"font.size\"] = 16 # set standard font size \n",
    "fig_dim = [2 * 3.14961,2* 2.3622075] # for 8cm width ; double for 16cm width\n",
    "\n",
    "# get data\n",
    "arr_Ar = np.loadtxt(Ar_file)\n",
    "arr_Ar= arr_Ar[arr_Ar[:, 0].argsort()]\n",
    "p_Ar  = arr_Ar[:,0] / 2.5\n",
    "UVen_Ar = arr_Ar[:,1]\n",
    "\n",
    "arr_Ne = np.loadtxt(Ne_file)\n",
    "arr_Ne= arr_Ne[arr_Ne[:, 0].argsort()]\n",
    "p_Ne  = arr_Ne[:,0]  / 2.5 \n",
    "UVen_Ne = arr_Ne[:,1]\n",
    "\n",
    "plt.figure(figsize=fig_dim, facecolor=\"white\") \n",
    "plt.subplots_adjust(top=0.9, bottom=0.14, left=0.2)\n",
    "\n",
    "plt.ylabel(\"Energy (nJ)\")\n",
    "plt.xlabel(\"Rescaled central pressure (bar)\")\n",
    "\n",
    "plt.plot(p_Ar, UVen_Ar*1e9, color=\"red\", label=\"Ar\")\n",
    "plt.plot(p_Ne, UVen_Ne*1e9, color=\"blue\", label=\"Ne\")\n",
    "\n",
    "ax = plt.gca()\n",
    "ax.set_yscale('log')\n",
    "ax.set_yticks([100,1000,5000])\n",
    "ax.yaxis.set_major_formatter(FormatStrFormatter(\"%.0f\"))\n",
    "\n",
    "plt.legend(loc=\"lower right\")\n",
    "\n",
    "\n",
    "plt.savefig(os.path.join(out_dir,\"p_scans_Ar_Ne_2.5rescale_sim_log.pdf\"))\n",
    "plt.savefig(os.path.join(out_dir,\"p_scans_Ar_Ne_2.5rescale_sim_log.png\"),dpi=1000) \n",
    "plt.show()  \n"
   ]
  },
  {
   "cell_type": "code",
   "execution_count": null,
   "metadata": {
    "collapsed": true
   },
   "outputs": [],
   "source": []
  }
 ],
 "metadata": {
  "kernelspec": {
   "display_name": "Julia 1.8.5",
   "language": "julia",
   "name": "julia-1.8"
  },
  "language_info": {
   "file_extension": ".jl",
   "mimetype": "application/julia",
   "name": "julia",
   "version": "1.8.5"
  }
 },
 "nbformat": 4,
 "nbformat_minor": 2
}
